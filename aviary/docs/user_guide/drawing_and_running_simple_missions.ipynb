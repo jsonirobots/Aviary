{
 "cells": [
  {
   "cell_type": "markdown",
   "metadata": {},
   "source": [
    "# Drawing and running simple missions\n",
    "\n",
    "## Overview\n",
    "\n",
    "Aviary comes with a simple built-in graphical interface for defining missions.\n",
    "This tool can be accessed via the command line and provides an interactive way to define flight phases, including altitude, Mach number, and optimization parameters.\n",
    "\n",
    "It is specifically made to only be used with the `\"height_energy\"` mission method.\n",
    "You could use the results from the GUI to run a mission with a different method, but it would require manually changing the generated `phase_info` dict.\n",
    "\n",
    "![Graphical user interface for drawing missions](images/gui.png)"
   ]
  },
  {
   "cell_type": "code",
   "execution_count": null,
   "metadata": {
    "tags": [
     "remove-cell"
    ]
   },
   "outputs": [],
   "source": [
    "# Testing Cell\n",
    "from aviary.interface.utils.check_phase_info import check_phase_info, HEIGHT_ENERGY\n",
    "check_phase_info({}, HEIGHT_ENERGY)"
   ]
  },
  {
   "cell_type": "markdown",
   "metadata": {},
   "source": [
    "## Getting Started\n",
    "\n",
    "To launch the Flight Profile Utility, use the following command in your terminal:\n",
    "\n",
    "```bash\n",
    "aviary draw_mission\n",
    "```\n",
    "\n",
    "This command will open a graphical interface where you can interactively design a flight profile."
   ]
  },
  {
   "cell_type": "code",
   "execution_count": null,
   "metadata": {
    "tags": [
     "remove-cell"
    ]
   },
   "outputs": [],
   "source": [
    "# Test Cell\n",
    "from aviary.interface.cmd_entry_points import _command_map\n",
    "_command_map['draw_mission'];"
   ]
  },
  {
   "cell_type": "markdown",
   "metadata": {},
   "source": [
    "```{note}\n",
    "If you are [WSL on Windows](https://learn.microsoft.com/en-us/windows/wsl/install) you might need to install an [X Server](https://sourceforge.net/projects/xming/) to run the GUI without issues. If you do this, also modify your `.bashrc` file to include this line: `export DISPLAY=localhost:0.0`. \n",
    "```\n",
    "\n",
    "## Graphical Interface Usage\n",
    "\n",
    "### Main Components\n",
    "\n",
    "1. **Altitude Plot**: Graphically represents the altitude profile over time. Users can add and drag points to adjust the altitude at different mission times.\n",
    "\n",
    "2. **Mach Plot**: Similar to the Altitude Plot but for the Mach number profile.\n",
    "\n",
    "3. **Control Panel**: Contains various options and controls for customizing the flight profile and running simulations.\n",
    "\n",
    "### Interactive Features\n",
    "\n",
    "- **Adding Points**: Click on either the Altitude or Mach plot area to add a new point. Points on the Altitude plot represent altitude (in feet) at a specific time (in minutes), whereas points on the Mach plot represent the Mach number at specific times.\n",
    "\n",
    "- **Dragging Points**: Points on both plots can be dragged vertically to adjust values. This allows for fine-tuning of the flight profile.\n",
    "\n",
    "- **Removing Points**: Currently, the utility does not support direct removal of points. Adjust the profile by dragging or adding new points.\n",
    "\n",
    "### Input Fields and Options\n",
    "\n",
    "1. **Optimize Mach**: Toggles optimization for Mach number during each phase of the flight.\n",
    "\n",
    "2. **Optimize Altitude**: Toggles optimization for altitude during each phase.\n",
    "\n",
    "3. **Constrain Range**: If checked, imposes constraints on the flight range.\n",
    "\n",
    "4. **Solve for Range**: Calculates the total flight range based on the profile.\n",
    "\n",
    "5. **Polynomial Control Order**: Sets the polynomial order for control optimization. This is for all phases. You can modify behavior on a per-phase basis by editing the outputted `phase_info` dict.\n",
    "\n",
    "6. **Number of Segments**: Defines the number of segments for the mission profile. This is for all phases. You can modify behavior on a per-phase basis by editing the outputted `phase_info` dict.\n",
    "\n",
    "7. **Inputting Altitude and Mach values**: In these text fields you can directly input values for altitude and Mach number. These will directly update the plots.\n",
    "\n",
    "8. **Phase-specific Optimization**: Each phase (line in the plots) has two checkboxes for 'Optimize Mach' and 'Optimize Altitude', allowing for phase-specific optimization settings.\n",
    "\n",
    "### Output\n",
    "\n",
    "Upon completion, the tool outputs a Python script named `outputted_phase_info.py` in the current working directory.\n",
    "This tool overwrites any existing file called `outputted_phase_info.py` in the current working directory.\n",
    "This outputted file contains the `phase_info` dictionary, which holds the flight profile data structured for use in mission simulations.\n",
    "\n",
    "```{note}\n",
    "When using the outputted `phase_info` dict in a mission simulation, you can modify the settings by directly changing the outputted Python file.\n",
    "```\n",
    "\n",
    "The `phase_info` dictionary makes some assumptions about different settings which you can also modify.\n",
    "For example, the time duration of each phase is controlled by the optimizer if `fix_duration` is False, though this can be changed to True to fix the duration of each phase.\n",
    "\n",
    "If you don't have the [black](https://pypi.org/project/black/) python autoformatter installed, your output may look slightly different - as long as you see confirmation that your phase info has been saved, your mission profile was successfully created.\n",
    "\n",
    "## Running a Mission Simulation\n",
    "\n",
    "After generating the flight profile, use the `run_mission` command to simulate the mission.\n",
    "This command utilizes the `phase_info` from `outputted_phase_info.py` and simulates the mission based on the defined parameters.\n",
    "You can use the `--phase_info` flag to specify the path to the `outputted_phase_info.py` file.\n",
    "Here we use a benchmark case as the inputted .csv file, though you can use any Aviary .csv here that defines an aircraft.\n",
    "\n",
    "```bash\n",
    "aviary run_mission --phase_info outputted_phase_info.py validation_cases/benchmark_tests/test_aircraft/aircraft_for_bench_FwFm.csv\n",
    "```\n",
    "\n",
    "You can also supply an optimizer, otherwise the default (SLSQP) will be used.\n",
    "Here is how you'd run the mission with the IPOPT optimizer:\n",
    "\n",
    "```bash\n",
    "aviary run_mission --optimizer IPOPT --phase_info outputted_phase_info.py validation_cases/benchmark_tests/test_aircraft/aircraft_for_bench_FwFm.csv\n",
    "```\n",
    "\n",
    "```{note}\n",
    "When you run Aviary all of the outputs will be saved in the location where you run the command or run script.\n",
    "Outputs files such as optimization history and Dymos output files are saved at that location.\n",
    "A folder named 'report' will also be created there, and contains all of the associated report files for your runs.\n",
    "These reports include [optimization and trajectory reports generated by OpenMDAO and Dymos](https://openmdao.org/newdocs/versions/latest/features/reports/reports_system.html).\n",
    "```"
   ]
  },
  {
   "cell_type": "code",
   "execution_count": null,
   "metadata": {
    "tags": [
     "remove-cell"
    ]
   },
   "outputs": [],
   "source": [
    "# Testing Cell\n",
    "from aviary.docs.tests.utils import run_command_no_file_error\n",
    "command = 'aviary run_mission --optimizer IPOPT --phase_info outputted_phase_info.py '\\\n",
    "    'validation_cases/benchmark_tests/test_aircraft/aircraft_for_bench_FwFm.csv'\n",
    "command += ' --max_iter 0'\n",
    "run_command_no_file_error(command)"
   ]
  }
 ],
 "metadata": {
  "kernelspec": {
   "display_name": "latest_env",
   "language": "python",
   "name": "python3"
  },
  "language_info": {
   "codemirror_mode": {
    "name": "ipython",
    "version": 3
   },
   "file_extension": ".py",
   "mimetype": "text/x-python",
   "name": "python",
   "nbconvert_exporter": "python",
   "pygments_lexer": "ipython3",
   "version": "3.10.13"
  }
 },
 "nbformat": 4,
 "nbformat_minor": 2
}
